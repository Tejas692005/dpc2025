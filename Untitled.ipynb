{
 "cells": [
  {
   "cell_type": "code",
   "execution_count": null,
   "id": "720ce01b-f4d3-4ace-8c94-e43dd8cab9fd",
   "metadata": {},
   "outputs": [],
   "source": []
  },
  {
   "cell_type": "code",
   "execution_count": 1,
   "id": "8cd47730-3900-40b7-a5e8-e75fcfcd6900",
   "metadata": {},
   "outputs": [
    {
     "name": "stdout",
     "output_type": "stream",
     "text": [
      "Input: [0, 1, 2, 1, 0, 2, 1, 0]\n",
      "Output: [0, 0, 0, 1, 1, 1, 2, 2] \n",
      "\n",
      "Input: [2, 2, 2, 2]\n",
      "Output: [2, 2, 2, 2] \n",
      "\n",
      "Input: [0, 0, 0, 0]\n",
      "Output: [0, 0, 0, 0] \n",
      "\n",
      "Input: [1, 1, 1, 1]\n",
      "Output: [1, 1, 1, 1] \n",
      "\n",
      "Input: [2, 0, 1]\n",
      "Output: [0, 1, 2] \n",
      "\n",
      "Input: []\n",
      "Output: [] \n",
      "\n"
     ]
    }
   ],
   "source": [
    "def sort012(arr):\n",
    "    low, mid, high = 0, 0, len(arr) - 1\n",
    "\n",
    "    while mid <= high:\n",
    "        if arr[mid] == 0:\n",
    "            arr[low], arr[mid] = arr[mid], arr[low]\n",
    "            low += 1\n",
    "            mid += 1\n",
    "        elif arr[mid] == 1:\n",
    "            mid += 1\n",
    "        else:\n",
    "            arr[mid], arr[high] = arr[high], arr[mid]\n",
    "            high -= 1\n",
    "    return arr\n",
    "    \n",
    "test_cases = [\n",
    "    [0, 1, 2, 1, 0, 2, 1, 0],\n",
    "    [2, 2, 2, 2],\n",
    "    [0, 0, 0, 0],\n",
    "    [1, 1, 1, 1],\n",
    "    [2, 0, 1],\n",
    "    []\n",
    "]\n",
    "\n",
    "for case in test_cases:\n",
    "    print(\"Input:\", case)\n",
    "    print(\"Output:\", sort012(case), \"\\n\")\n",
    "    "
   ]
  },
  {
   "cell_type": "code",
   "execution_count": null,
   "id": "3f9b5cef-f869-4c28-a6cb-5e8aa66a978c",
   "metadata": {},
   "outputs": [],
   "source": []
  },
  {
   "cell_type": "code",
   "execution_count": null,
   "id": "48f465db-c0d4-4588-8573-b1fa78dfb6a4",
   "metadata": {},
   "outputs": [],
   "source": []
  }
 ],
 "metadata": {
  "kernelspec": {
   "display_name": "Python 3 (ipykernel)",
   "language": "python",
   "name": "python3"
  },
  "language_info": {
   "codemirror_mode": {
    "name": "ipython",
    "version": 3
   },
   "file_extension": ".py",
   "mimetype": "text/x-python",
   "name": "python",
   "nbconvert_exporter": "python",
   "pygments_lexer": "ipython3",
   "version": "3.12.4"
  }
 },
 "nbformat": 4,
 "nbformat_minor": 5
}
